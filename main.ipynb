{
 "cells": [
  {
   "cell_type": "code",
   "execution_count": 1,
   "id": "initial_id",
   "metadata": {
    "collapsed": true,
    "ExecuteTime": {
     "end_time": "2024-04-08T10:47:53.026136Z",
     "start_time": "2024-04-08T10:47:07.044707Z"
    }
   },
   "outputs": [
    {
     "name": "stdout",
     "output_type": "stream",
     "text": [
      "Collecting gym\n",
      "  Using cached gym-0.26.2-py3-none-any.whl\n",
      "Collecting numpy>=1.18.0 (from gym)\n",
      "  Obtaining dependency information for numpy>=1.18.0 from https://files.pythonhosted.org/packages/b5/42/054082bd8220bbf6f297f982f0a8f5479fcbc55c8b511d928df07b965869/numpy-1.26.4-cp39-cp39-win_amd64.whl.metadata\n",
      "  Using cached numpy-1.26.4-cp39-cp39-win_amd64.whl.metadata (61 kB)\n",
      "Collecting cloudpickle>=1.2.0 (from gym)\n",
      "  Obtaining dependency information for cloudpickle>=1.2.0 from https://files.pythonhosted.org/packages/96/43/dae06432d0c4b1dc9e9149ad37b4ca8384cf6eb7700cd9215b177b914f0a/cloudpickle-3.0.0-py3-none-any.whl.metadata\n",
      "  Downloading cloudpickle-3.0.0-py3-none-any.whl.metadata (7.0 kB)\n",
      "Collecting gym-notices>=0.0.4 (from gym)\n",
      "  Obtaining dependency information for gym-notices>=0.0.4 from https://files.pythonhosted.org/packages/25/26/d786c6bec30fe6110fd3d22c9a273a2a0e56c0b73b93e25ea1af5a53243b/gym_notices-0.0.8-py3-none-any.whl.metadata\n",
      "  Downloading gym_notices-0.0.8-py3-none-any.whl.metadata (1.0 kB)\n",
      "Requirement already satisfied: importlib-metadata>=4.8.0 in d:\\all projects\\stock-traiding\\.venv\\lib\\site-packages (from gym) (7.1.0)\n",
      "Requirement already satisfied: zipp>=0.5 in d:\\all projects\\stock-traiding\\.venv\\lib\\site-packages (from importlib-metadata>=4.8.0->gym) (3.18.1)\n",
      "Downloading cloudpickle-3.0.0-py3-none-any.whl (20 kB)\n",
      "Downloading gym_notices-0.0.8-py3-none-any.whl (3.0 kB)\n",
      "Using cached numpy-1.26.4-cp39-cp39-win_amd64.whl (15.8 MB)\n",
      "Installing collected packages: gym-notices, numpy, cloudpickle, gym\n",
      "Successfully installed cloudpickle-3.0.0 gym-0.26.2 gym-notices-0.0.8 numpy-1.26.4\n"
     ]
    },
    {
     "name": "stderr",
     "output_type": "stream",
     "text": [
      "\n",
      "[notice] A new release of pip is available: 23.2.1 -> 24.0\n",
      "[notice] To update, run: python.exe -m pip install --upgrade pip\n"
     ]
    },
    {
     "name": "stdout",
     "output_type": "stream",
     "text": [
      "Collecting gym-anytrading\n",
      "  Obtaining dependency information for gym-anytrading from https://files.pythonhosted.org/packages/31/97/1c92ae872371577fb4e732ec1365775fa12ce2865233909b5d10dc4f19df/gym_anytrading-2.0.0-py3-none-any.whl.metadata\n",
      "  Downloading gym_anytrading-2.0.0-py3-none-any.whl.metadata (292 bytes)\n",
      "Collecting gymnasium>=0.29.1 (from gym-anytrading)\n",
      "  Obtaining dependency information for gymnasium>=0.29.1 from https://files.pythonhosted.org/packages/a8/4d/3cbfd81ed84db450dbe73a89afcd8bc405273918415649ac6683356afe92/gymnasium-0.29.1-py3-none-any.whl.metadata\n",
      "  Using cached gymnasium-0.29.1-py3-none-any.whl.metadata (10 kB)\n",
      "Requirement already satisfied: numpy>=1.16.4 in d:\\all projects\\stock-traiding\\.venv\\lib\\site-packages (from gym-anytrading) (1.26.4)\n",
      "Collecting pandas>=0.24.2 (from gym-anytrading)\n",
      "  Obtaining dependency information for pandas>=0.24.2 from https://files.pythonhosted.org/packages/41/a3/349df1721beb447142b8b11e27875a3da00f85d713f1a4bed0afb3a62e14/pandas-2.2.1-cp39-cp39-win_amd64.whl.metadata\n",
      "  Using cached pandas-2.2.1-cp39-cp39-win_amd64.whl.metadata (19 kB)\n",
      "Collecting matplotlib>=3.1.1 (from gym-anytrading)\n",
      "  Obtaining dependency information for matplotlib>=3.1.1 from https://files.pythonhosted.org/packages/54/af/17195cf1f43cd3be79b15aecc5b7e44ea08456bd0048ad8dcd3a5fd45c45/matplotlib-3.8.4-cp39-cp39-win_amd64.whl.metadata\n",
      "  Downloading matplotlib-3.8.4-cp39-cp39-win_amd64.whl.metadata (5.9 kB)\n",
      "Requirement already satisfied: cloudpickle>=1.2.0 in d:\\all projects\\stock-traiding\\.venv\\lib\\site-packages (from gymnasium>=0.29.1->gym-anytrading) (3.0.0)\n",
      "Requirement already satisfied: typing-extensions>=4.3.0 in d:\\all projects\\stock-traiding\\.venv\\lib\\site-packages (from gymnasium>=0.29.1->gym-anytrading) (4.11.0)\n",
      "Collecting farama-notifications>=0.0.1 (from gymnasium>=0.29.1->gym-anytrading)\n",
      "  Obtaining dependency information for farama-notifications>=0.0.1 from https://files.pythonhosted.org/packages/05/2c/ffc08c54c05cdce6fbed2aeebc46348dbe180c6d2c541c7af7ba0aa5f5f8/Farama_Notifications-0.0.4-py3-none-any.whl.metadata\n",
      "  Using cached Farama_Notifications-0.0.4-py3-none-any.whl.metadata (558 bytes)\n",
      "Requirement already satisfied: importlib-metadata>=4.8.0 in d:\\all projects\\stock-traiding\\.venv\\lib\\site-packages (from gymnasium>=0.29.1->gym-anytrading) (7.1.0)\n",
      "Collecting contourpy>=1.0.1 (from matplotlib>=3.1.1->gym-anytrading)\n",
      "  Obtaining dependency information for contourpy>=1.0.1 from https://files.pythonhosted.org/packages/62/5c/08e3a7a35762c8decb6be01c7ec1f4b5f85ef2e2fbb44af87e9caf25a879/contourpy-1.2.1-cp39-cp39-win_amd64.whl.metadata\n",
      "  Downloading contourpy-1.2.1-cp39-cp39-win_amd64.whl.metadata (5.8 kB)\n",
      "Collecting cycler>=0.10 (from matplotlib>=3.1.1->gym-anytrading)\n",
      "  Obtaining dependency information for cycler>=0.10 from https://files.pythonhosted.org/packages/e7/05/c19819d5e3d95294a6f5947fb9b9629efb316b96de511b418c53d245aae6/cycler-0.12.1-py3-none-any.whl.metadata\n",
      "  Using cached cycler-0.12.1-py3-none-any.whl.metadata (3.8 kB)\n",
      "Collecting fonttools>=4.22.0 (from matplotlib>=3.1.1->gym-anytrading)\n",
      "  Obtaining dependency information for fonttools>=4.22.0 from https://files.pythonhosted.org/packages/5e/62/ec6247534b077c9627e745d8046027ae363ed6d6407f8010650439ecbda1/fonttools-4.51.0-cp39-cp39-win_amd64.whl.metadata\n",
      "  Downloading fonttools-4.51.0-cp39-cp39-win_amd64.whl.metadata (162 kB)\n",
      "     ---------------------------------------- 0.0/162.8 kB ? eta -:--:--\n",
      "     ------- ------------------------------- 30.7/162.8 kB 1.4 MB/s eta 0:00:01\n",
      "     -------------------------- ----------- 112.6/162.8 kB 1.7 MB/s eta 0:00:01\n",
      "     -------------------------------------- 162.8/162.8 kB 1.6 MB/s eta 0:00:00\n",
      "Collecting kiwisolver>=1.3.1 (from matplotlib>=3.1.1->gym-anytrading)\n",
      "  Obtaining dependency information for kiwisolver>=1.3.1 from https://files.pythonhosted.org/packages/ca/c1/1f986c8119c0c57c2bd71d1941da23332c38ee2c90117e46dff4358b70f7/kiwisolver-1.4.5-cp39-cp39-win_amd64.whl.metadata\n",
      "  Using cached kiwisolver-1.4.5-cp39-cp39-win_amd64.whl.metadata (6.5 kB)\n",
      "Requirement already satisfied: packaging>=20.0 in d:\\all projects\\stock-traiding\\.venv\\lib\\site-packages (from matplotlib>=3.1.1->gym-anytrading) (24.0)\n",
      "Collecting pillow>=8 (from matplotlib>=3.1.1->gym-anytrading)\n",
      "  Obtaining dependency information for pillow>=8 from https://files.pythonhosted.org/packages/0b/d7/3a9cfa80a3ff59fddfe3b5bd1cf5728e7ed6608678ce9f23e79f35e87805/pillow-10.3.0-cp39-cp39-win_amd64.whl.metadata\n",
      "  Downloading pillow-10.3.0-cp39-cp39-win_amd64.whl.metadata (9.4 kB)\n",
      "Collecting pyparsing>=2.3.1 (from matplotlib>=3.1.1->gym-anytrading)\n",
      "  Obtaining dependency information for pyparsing>=2.3.1 from https://files.pythonhosted.org/packages/9d/ea/6d76df31432a0e6fdf81681a895f009a4bb47b3c39036db3e1b528191d52/pyparsing-3.1.2-py3-none-any.whl.metadata\n",
      "  Downloading pyparsing-3.1.2-py3-none-any.whl.metadata (5.1 kB)\n",
      "Requirement already satisfied: python-dateutil>=2.7 in d:\\all projects\\stock-traiding\\.venv\\lib\\site-packages (from matplotlib>=3.1.1->gym-anytrading) (2.9.0.post0)\n",
      "Collecting importlib-resources>=3.2.0 (from matplotlib>=3.1.1->gym-anytrading)\n",
      "  Obtaining dependency information for importlib-resources>=3.2.0 from https://files.pythonhosted.org/packages/75/06/4df55e1b7b112d183f65db9503bff189e97179b256e1ea450a3c365241e0/importlib_resources-6.4.0-py3-none-any.whl.metadata\n",
      "  Using cached importlib_resources-6.4.0-py3-none-any.whl.metadata (3.9 kB)\n",
      "Collecting pytz>=2020.1 (from pandas>=0.24.2->gym-anytrading)\n",
      "  Obtaining dependency information for pytz>=2020.1 from https://files.pythonhosted.org/packages/9c/3d/a121f284241f08268b21359bd425f7d4825cffc5ac5cd0e1b3d82ffd2b10/pytz-2024.1-py2.py3-none-any.whl.metadata\n",
      "  Using cached pytz-2024.1-py2.py3-none-any.whl.metadata (22 kB)\n",
      "Collecting tzdata>=2022.7 (from pandas>=0.24.2->gym-anytrading)\n",
      "  Obtaining dependency information for tzdata>=2022.7 from https://files.pythonhosted.org/packages/65/58/f9c9e6be752e9fcb8b6a0ee9fb87e6e7a1f6bcab2cdc73f02bb7ba91ada0/tzdata-2024.1-py2.py3-none-any.whl.metadata\n",
      "  Using cached tzdata-2024.1-py2.py3-none-any.whl.metadata (1.4 kB)\n",
      "Requirement already satisfied: zipp>=0.5 in d:\\all projects\\stock-traiding\\.venv\\lib\\site-packages (from importlib-metadata>=4.8.0->gymnasium>=0.29.1->gym-anytrading) (3.18.1)\n",
      "Requirement already satisfied: six>=1.5 in d:\\all projects\\stock-traiding\\.venv\\lib\\site-packages (from python-dateutil>=2.7->matplotlib>=3.1.1->gym-anytrading) (1.16.0)\n",
      "Downloading gym_anytrading-2.0.0-py3-none-any.whl (172 kB)\n",
      "   ---------------------------------------- 0.0/172.2 kB ? eta -:--:--\n",
      "   --------------------------------------- 172.2/172.2 kB 10.1 MB/s eta 0:00:00\n",
      "Using cached gymnasium-0.29.1-py3-none-any.whl (953 kB)\n",
      "Downloading matplotlib-3.8.4-cp39-cp39-win_amd64.whl (7.7 MB)\n",
      "   ---------------------------------------- 0.0/7.7 MB ? eta -:--:--\n",
      "   - -------------------------------------- 0.3/7.7 MB 5.2 MB/s eta 0:00:02\n",
      "   ---- ----------------------------------- 0.8/7.7 MB 8.2 MB/s eta 0:00:01\n",
      "   --------- ------------------------------ 1.9/7.7 MB 13.4 MB/s eta 0:00:01\n",
      "   -------------------- ------------------- 3.9/7.7 MB 20.9 MB/s eta 0:00:01\n",
      "   ---------------------------- ----------- 5.4/7.7 MB 23.2 MB/s eta 0:00:01\n",
      "   ---------------------------- ----------- 5.4/7.7 MB 23.2 MB/s eta 0:00:01\n",
      "   ----------------------------------- ---- 6.8/7.7 MB 20.8 MB/s eta 0:00:01\n",
      "   ------------------------------------- -- 7.1/7.7 MB 19.0 MB/s eta 0:00:01\n",
      "   ---------------------------------------- 7.7/7.7 MB 18.8 MB/s eta 0:00:00\n",
      "Using cached pandas-2.2.1-cp39-cp39-win_amd64.whl (11.6 MB)\n",
      "Downloading contourpy-1.2.1-cp39-cp39-win_amd64.whl (182 kB)\n",
      "   ---------------------------------------- 0.0/182.8 kB ? eta -:--:--\n",
      "   ---------------------------------------- 182.8/182.8 kB ? eta 0:00:00\n",
      "Using cached cycler-0.12.1-py3-none-any.whl (8.3 kB)\n",
      "Using cached Farama_Notifications-0.0.4-py3-none-any.whl (2.5 kB)\n",
      "Downloading fonttools-4.51.0-cp39-cp39-win_amd64.whl (2.2 MB)\n",
      "   ---------------------------------------- 0.0/2.2 MB ? eta -:--:--\n",
      "   ----- ---------------------------------- 0.3/2.2 MB ? eta -:--:--\n",
      "   ---------------------------------------- 2.2/2.2 MB 23.2 MB/s eta 0:00:00\n",
      "Using cached importlib_resources-6.4.0-py3-none-any.whl (38 kB)\n",
      "Using cached kiwisolver-1.4.5-cp39-cp39-win_amd64.whl (56 kB)\n",
      "Downloading pillow-10.3.0-cp39-cp39-win_amd64.whl (2.5 MB)\n",
      "   ---------------------------------------- 0.0/2.5 MB ? eta -:--:--\n",
      "   ----------------------- ---------------- 1.5/2.5 MB 48.2 MB/s eta 0:00:01\n",
      "   ----------------------------- ---------- 1.8/2.5 MB 19.5 MB/s eta 0:00:01\n",
      "   ---------------------------------------- 2.5/2.5 MB 20.2 MB/s eta 0:00:00\n",
      "Downloading pyparsing-3.1.2-py3-none-any.whl (103 kB)\n",
      "   ---------------------------------------- 0.0/103.2 kB ? eta -:--:--\n",
      "   ---------------------------------------- 103.2/103.2 kB ? eta 0:00:00\n",
      "Using cached pytz-2024.1-py2.py3-none-any.whl (505 kB)\n",
      "Using cached tzdata-2024.1-py2.py3-none-any.whl (345 kB)\n",
      "Installing collected packages: pytz, farama-notifications, tzdata, pyparsing, pillow, kiwisolver, importlib-resources, fonttools, cycler, contourpy, pandas, matplotlib, gymnasium, gym-anytrading\n",
      "Successfully installed contourpy-1.2.1 cycler-0.12.1 farama-notifications-0.0.4 fonttools-4.51.0 gym-anytrading-2.0.0 gymnasium-0.29.1 importlib-resources-6.4.0 kiwisolver-1.4.5 matplotlib-3.8.4 pandas-2.2.1 pillow-10.3.0 pyparsing-3.1.2 pytz-2024.1 tzdata-2024.1\n"
     ]
    },
    {
     "name": "stderr",
     "output_type": "stream",
     "text": [
      "\n",
      "[notice] A new release of pip is available: 23.2.1 -> 24.0\n",
      "[notice] To update, run: python.exe -m pip install --upgrade pip\n"
     ]
    }
   ],
   "source": [
    "!pip install gym\n",
    "!pip install gym-anytrading"
   ]
  },
  {
   "cell_type": "code",
   "outputs": [],
   "source": [
    "from gym_anytrading.datasets import STOCKS_GOOGL\n",
    "import gym"
   ],
   "metadata": {
    "collapsed": false,
    "ExecuteTime": {
     "end_time": "2024-04-13T07:38:12.627371Z",
     "start_time": "2024-04-13T07:38:10.295741Z"
    }
   },
   "id": "1e59e4eb198af05b",
   "execution_count": 2
  },
  {
   "cell_type": "code",
   "outputs": [],
   "source": [],
   "metadata": {
    "collapsed": false,
    "ExecuteTime": {
     "end_time": "2024-04-13T07:38:12.643595Z",
     "start_time": "2024-04-13T07:38:12.629373Z"
    }
   },
   "id": "64e5fc8ea9bf86b0",
   "execution_count": 2
  },
  {
   "cell_type": "code",
   "outputs": [],
   "source": [
    "df=STOCKS_GOOGL.copy()"
   ],
   "metadata": {
    "collapsed": false,
    "ExecuteTime": {
     "end_time": "2024-04-13T07:38:12.659013Z",
     "start_time": "2024-04-13T07:38:12.645472Z"
    }
   },
   "id": "e1e46db2a8b25b0e",
   "execution_count": 3
  },
  {
   "cell_type": "code",
   "outputs": [
    {
     "data": {
      "text/plain": "                   Open         High          Low        Close    Adj Close  \\\nDate                                                                          \n2009-05-22   198.528534   199.524521   196.196198   196.946945   196.946945   \n2009-05-26   196.171173   202.702698   195.195190   202.382385   202.382385   \n2009-05-27   203.023026   206.136139   202.607605   202.982986   202.982986   \n2009-05-28   204.544540   206.016022   202.507507   205.405411   205.405411   \n2009-05-29   206.261261   208.823822   205.555557   208.823822   208.823822   \n...                 ...          ...          ...          ...          ...   \n2018-08-23  1219.880005  1235.170044  1219.349976  1221.160034  1221.160034   \n2018-08-24  1226.000000  1237.400024  1221.420044  1236.750000  1236.750000   \n2018-08-27  1244.140015  1257.869995  1240.680054  1256.270020  1256.270020   \n2018-08-28  1255.900024  1256.560059  1242.969971  1245.859985  1245.859985   \n2018-08-29  1255.000000  1267.170044  1252.800049  1264.650024  1264.650024   \n\n             Volume  \nDate                 \n2009-05-22  3433700  \n2009-05-26  6202700  \n2009-05-27  6062500  \n2009-05-28  5332200  \n2009-05-29  5291100  \n...             ...  \n2018-08-23  1233300  \n2018-08-24  1222700  \n2018-08-27  1429000  \n2018-08-28  1366500  \n2018-08-29  1846300  \n\n[2335 rows x 6 columns]",
      "text/html": "<div>\n<style scoped>\n    .dataframe tbody tr th:only-of-type {\n        vertical-align: middle;\n    }\n\n    .dataframe tbody tr th {\n        vertical-align: top;\n    }\n\n    .dataframe thead th {\n        text-align: right;\n    }\n</style>\n<table border=\"1\" class=\"dataframe\">\n  <thead>\n    <tr style=\"text-align: right;\">\n      <th></th>\n      <th>Open</th>\n      <th>High</th>\n      <th>Low</th>\n      <th>Close</th>\n      <th>Adj Close</th>\n      <th>Volume</th>\n    </tr>\n    <tr>\n      <th>Date</th>\n      <th></th>\n      <th></th>\n      <th></th>\n      <th></th>\n      <th></th>\n      <th></th>\n    </tr>\n  </thead>\n  <tbody>\n    <tr>\n      <th>2009-05-22</th>\n      <td>198.528534</td>\n      <td>199.524521</td>\n      <td>196.196198</td>\n      <td>196.946945</td>\n      <td>196.946945</td>\n      <td>3433700</td>\n    </tr>\n    <tr>\n      <th>2009-05-26</th>\n      <td>196.171173</td>\n      <td>202.702698</td>\n      <td>195.195190</td>\n      <td>202.382385</td>\n      <td>202.382385</td>\n      <td>6202700</td>\n    </tr>\n    <tr>\n      <th>2009-05-27</th>\n      <td>203.023026</td>\n      <td>206.136139</td>\n      <td>202.607605</td>\n      <td>202.982986</td>\n      <td>202.982986</td>\n      <td>6062500</td>\n    </tr>\n    <tr>\n      <th>2009-05-28</th>\n      <td>204.544540</td>\n      <td>206.016022</td>\n      <td>202.507507</td>\n      <td>205.405411</td>\n      <td>205.405411</td>\n      <td>5332200</td>\n    </tr>\n    <tr>\n      <th>2009-05-29</th>\n      <td>206.261261</td>\n      <td>208.823822</td>\n      <td>205.555557</td>\n      <td>208.823822</td>\n      <td>208.823822</td>\n      <td>5291100</td>\n    </tr>\n    <tr>\n      <th>...</th>\n      <td>...</td>\n      <td>...</td>\n      <td>...</td>\n      <td>...</td>\n      <td>...</td>\n      <td>...</td>\n    </tr>\n    <tr>\n      <th>2018-08-23</th>\n      <td>1219.880005</td>\n      <td>1235.170044</td>\n      <td>1219.349976</td>\n      <td>1221.160034</td>\n      <td>1221.160034</td>\n      <td>1233300</td>\n    </tr>\n    <tr>\n      <th>2018-08-24</th>\n      <td>1226.000000</td>\n      <td>1237.400024</td>\n      <td>1221.420044</td>\n      <td>1236.750000</td>\n      <td>1236.750000</td>\n      <td>1222700</td>\n    </tr>\n    <tr>\n      <th>2018-08-27</th>\n      <td>1244.140015</td>\n      <td>1257.869995</td>\n      <td>1240.680054</td>\n      <td>1256.270020</td>\n      <td>1256.270020</td>\n      <td>1429000</td>\n    </tr>\n    <tr>\n      <th>2018-08-28</th>\n      <td>1255.900024</td>\n      <td>1256.560059</td>\n      <td>1242.969971</td>\n      <td>1245.859985</td>\n      <td>1245.859985</td>\n      <td>1366500</td>\n    </tr>\n    <tr>\n      <th>2018-08-29</th>\n      <td>1255.000000</td>\n      <td>1267.170044</td>\n      <td>1252.800049</td>\n      <td>1264.650024</td>\n      <td>1264.650024</td>\n      <td>1846300</td>\n    </tr>\n  </tbody>\n</table>\n<p>2335 rows × 6 columns</p>\n</div>"
     },
     "execution_count": 4,
     "metadata": {},
     "output_type": "execute_result"
    }
   ],
   "source": [
    "df"
   ],
   "metadata": {
    "collapsed": false,
    "ExecuteTime": {
     "end_time": "2024-04-13T07:38:14.312367Z",
     "start_time": "2024-04-13T07:38:14.288282Z"
    }
   },
   "id": "8c70f5831d673926",
   "execution_count": 4
  },
  {
   "cell_type": "code",
   "outputs": [
    {
     "ename": "NameNotFound",
     "evalue": "Environment stocks doesn't exist. ",
     "output_type": "error",
     "traceback": [
      "\u001B[1;31m---------------------------------------------------------------------------\u001B[0m",
      "\u001B[1;31mNameNotFound\u001B[0m                              Traceback (most recent call last)",
      "Cell \u001B[1;32mIn[8], line 2\u001B[0m\n\u001B[0;32m      1\u001B[0m \u001B[38;5;66;03m# Create the environment\u001B[39;00m\n\u001B[1;32m----> 2\u001B[0m env \u001B[38;5;241m=\u001B[39m \u001B[43mgym\u001B[49m\u001B[38;5;241;43m.\u001B[39;49m\u001B[43mmake\u001B[49m\u001B[43m(\u001B[49m\u001B[38;5;124;43m'\u001B[39;49m\u001B[38;5;124;43mstocks-v0\u001B[39;49m\u001B[38;5;124;43m'\u001B[39;49m\u001B[43m,\u001B[49m\u001B[43mdf\u001B[49m\u001B[38;5;241;43m=\u001B[39;49m\u001B[43mdf\u001B[49m\u001B[43m,\u001B[49m\u001B[43m \u001B[49m\u001B[43mframe_bound\u001B[49m\u001B[38;5;241;43m=\u001B[39;49m\u001B[43m(\u001B[49m\u001B[38;5;241;43m5\u001B[39;49m\u001B[43m,\u001B[49m\u001B[43m \u001B[49m\u001B[38;5;28;43mlen\u001B[39;49m\u001B[43m(\u001B[49m\u001B[43mdf\u001B[49m\u001B[43m)\u001B[49m\u001B[38;5;241;43m-\u001B[39;49m\u001B[38;5;241;43m1\u001B[39;49m\u001B[43m)\u001B[49m\u001B[43m,\u001B[49m\u001B[43m \u001B[49m\u001B[43mwindow_size\u001B[49m\u001B[38;5;241;43m=\u001B[39;49m\u001B[38;5;241;43m5\u001B[39;49m\u001B[43m)\u001B[49m\n\u001B[0;32m      4\u001B[0m \u001B[38;5;66;03m# View environment features\u001B[39;00m\n\u001B[0;32m      5\u001B[0m \u001B[38;5;66;03m# env.signal_features\u001B[39;00m\n\u001B[0;32m      6\u001B[0m \n\u001B[0;32m      7\u001B[0m \u001B[38;5;66;03m# View environment prices\u001B[39;00m\n\u001B[0;32m      8\u001B[0m env\u001B[38;5;241m.\u001B[39mprices\n",
      "File \u001B[1;32mD:\\all projects\\stock-traiding\\.venv\\lib\\site-packages\\gym\\envs\\registration.py:569\u001B[0m, in \u001B[0;36mmake\u001B[1;34m(id, max_episode_steps, autoreset, apply_api_compatibility, disable_env_checker, **kwargs)\u001B[0m\n\u001B[0;32m    563\u001B[0m         logger\u001B[38;5;241m.\u001B[39mwarn(\n\u001B[0;32m    564\u001B[0m             \u001B[38;5;124mf\u001B[39m\u001B[38;5;124m\"\u001B[39m\u001B[38;5;124mUsing the latest versioned environment `\u001B[39m\u001B[38;5;132;01m{\u001B[39;00mnew_env_id\u001B[38;5;132;01m}\u001B[39;00m\u001B[38;5;124m` \u001B[39m\u001B[38;5;124m\"\u001B[39m\n\u001B[0;32m    565\u001B[0m             \u001B[38;5;124mf\u001B[39m\u001B[38;5;124m\"\u001B[39m\u001B[38;5;124minstead of the unversioned environment `\u001B[39m\u001B[38;5;132;01m{\u001B[39;00m\u001B[38;5;28mid\u001B[39m\u001B[38;5;132;01m}\u001B[39;00m\u001B[38;5;124m`.\u001B[39m\u001B[38;5;124m\"\u001B[39m\n\u001B[0;32m    566\u001B[0m         )\n\u001B[0;32m    568\u001B[0m     \u001B[38;5;28;01mif\u001B[39;00m spec_ \u001B[38;5;129;01mis\u001B[39;00m \u001B[38;5;28;01mNone\u001B[39;00m:\n\u001B[1;32m--> 569\u001B[0m         \u001B[43m_check_version_exists\u001B[49m\u001B[43m(\u001B[49m\u001B[43mns\u001B[49m\u001B[43m,\u001B[49m\u001B[43m \u001B[49m\u001B[43mname\u001B[49m\u001B[43m,\u001B[49m\u001B[43m \u001B[49m\u001B[43mversion\u001B[49m\u001B[43m)\u001B[49m\n\u001B[0;32m    570\u001B[0m         \u001B[38;5;28;01mraise\u001B[39;00m error\u001B[38;5;241m.\u001B[39mError(\u001B[38;5;124mf\u001B[39m\u001B[38;5;124m\"\u001B[39m\u001B[38;5;124mNo registered env with id: \u001B[39m\u001B[38;5;132;01m{\u001B[39;00m\u001B[38;5;28mid\u001B[39m\u001B[38;5;132;01m}\u001B[39;00m\u001B[38;5;124m\"\u001B[39m)\n\u001B[0;32m    572\u001B[0m _kwargs \u001B[38;5;241m=\u001B[39m spec_\u001B[38;5;241m.\u001B[39mkwargs\u001B[38;5;241m.\u001B[39mcopy()\n",
      "File \u001B[1;32mD:\\all projects\\stock-traiding\\.venv\\lib\\site-packages\\gym\\envs\\registration.py:219\u001B[0m, in \u001B[0;36m_check_version_exists\u001B[1;34m(ns, name, version)\u001B[0m\n\u001B[0;32m    216\u001B[0m \u001B[38;5;28;01mif\u001B[39;00m get_env_id(ns, name, version) \u001B[38;5;129;01min\u001B[39;00m registry:\n\u001B[0;32m    217\u001B[0m     \u001B[38;5;28;01mreturn\u001B[39;00m\n\u001B[1;32m--> 219\u001B[0m \u001B[43m_check_name_exists\u001B[49m\u001B[43m(\u001B[49m\u001B[43mns\u001B[49m\u001B[43m,\u001B[49m\u001B[43m \u001B[49m\u001B[43mname\u001B[49m\u001B[43m)\u001B[49m\n\u001B[0;32m    220\u001B[0m \u001B[38;5;28;01mif\u001B[39;00m version \u001B[38;5;129;01mis\u001B[39;00m \u001B[38;5;28;01mNone\u001B[39;00m:\n\u001B[0;32m    221\u001B[0m     \u001B[38;5;28;01mreturn\u001B[39;00m\n",
      "File \u001B[1;32mD:\\all projects\\stock-traiding\\.venv\\lib\\site-packages\\gym\\envs\\registration.py:197\u001B[0m, in \u001B[0;36m_check_name_exists\u001B[1;34m(ns, name)\u001B[0m\n\u001B[0;32m    194\u001B[0m namespace_msg \u001B[38;5;241m=\u001B[39m \u001B[38;5;124mf\u001B[39m\u001B[38;5;124m\"\u001B[39m\u001B[38;5;124m in namespace \u001B[39m\u001B[38;5;132;01m{\u001B[39;00mns\u001B[38;5;132;01m}\u001B[39;00m\u001B[38;5;124m\"\u001B[39m \u001B[38;5;28;01mif\u001B[39;00m ns \u001B[38;5;28;01melse\u001B[39;00m \u001B[38;5;124m\"\u001B[39m\u001B[38;5;124m\"\u001B[39m\n\u001B[0;32m    195\u001B[0m suggestion_msg \u001B[38;5;241m=\u001B[39m \u001B[38;5;124mf\u001B[39m\u001B[38;5;124m\"\u001B[39m\u001B[38;5;124mDid you mean: `\u001B[39m\u001B[38;5;132;01m{\u001B[39;00msuggestion[\u001B[38;5;241m0\u001B[39m]\u001B[38;5;132;01m}\u001B[39;00m\u001B[38;5;124m`?\u001B[39m\u001B[38;5;124m\"\u001B[39m \u001B[38;5;28;01mif\u001B[39;00m suggestion \u001B[38;5;28;01melse\u001B[39;00m \u001B[38;5;124m\"\u001B[39m\u001B[38;5;124m\"\u001B[39m\n\u001B[1;32m--> 197\u001B[0m \u001B[38;5;28;01mraise\u001B[39;00m error\u001B[38;5;241m.\u001B[39mNameNotFound(\n\u001B[0;32m    198\u001B[0m     \u001B[38;5;124mf\u001B[39m\u001B[38;5;124m\"\u001B[39m\u001B[38;5;124mEnvironment \u001B[39m\u001B[38;5;132;01m{\u001B[39;00mname\u001B[38;5;132;01m}\u001B[39;00m\u001B[38;5;124m doesn\u001B[39m\u001B[38;5;124m'\u001B[39m\u001B[38;5;124mt exist\u001B[39m\u001B[38;5;132;01m{\u001B[39;00mnamespace_msg\u001B[38;5;132;01m}\u001B[39;00m\u001B[38;5;124m. \u001B[39m\u001B[38;5;132;01m{\u001B[39;00msuggestion_msg\u001B[38;5;132;01m}\u001B[39;00m\u001B[38;5;124m\"\u001B[39m\n\u001B[0;32m    199\u001B[0m )\n",
      "\u001B[1;31mNameNotFound\u001B[0m: Environment stocks doesn't exist. "
     ]
    }
   ],
   "source": [
    "# Create the environment\n",
    "env = gym.make('stocks-v0',df=df, frame_bound=(5, len(df)-1), window_size=5)\n",
    "\n",
    "# View environment features\n",
    "# env.signal_features\n",
    "\n",
    "# View environment prices\n",
    "env.prices"
   ],
   "metadata": {
    "collapsed": false,
    "ExecuteTime": {
     "end_time": "2024-04-13T07:55:56.103648Z",
     "start_time": "2024-04-13T07:55:56.041867Z"
    }
   },
   "id": "880e2ddcc0fc436e",
   "execution_count": 8
  },
  {
   "cell_type": "code",
   "outputs": [],
   "source": [
    "def my_process_data(df, window_size, frame_bound):\n",
    "    start = frame_bound[0] - window_size\n",
    "    end = frame_bound[1]\n",
    "    prices = df.loc[:, 'Low'].to_numpy()[start:end]\n",
    "    signal_features = df.loc[:, ['Close', 'Open', 'High', 'Low']].to_numpy()[start:end]\n",
    "    return prices, signal_features"
   ],
   "metadata": {
    "collapsed": false,
    "ExecuteTime": {
     "end_time": "2024-04-13T07:59:05.871698Z",
     "start_time": "2024-04-13T07:59:05.863143Z"
    }
   },
   "id": "21141e19a5eb1eb4",
   "execution_count": 9
  },
  {
   "cell_type": "code",
   "outputs": [],
   "source": [
    "from gym_anytrading.envs import TradingEnv, ForexEnv, StocksEnv, Actions, Positions"
   ],
   "metadata": {
    "collapsed": false,
    "ExecuteTime": {
     "end_time": "2024-04-13T07:59:58.112809Z",
     "start_time": "2024-04-13T07:59:57.166535Z"
    }
   },
   "id": "5a16b14108d0d54a",
   "execution_count": 11
  },
  {
   "cell_type": "code",
   "outputs": [],
   "source": [
    "prices, signal_features = my_process_data(df=STOCKS_GOOGL, window_size=30, frame_bound=(30, len(STOCKS_GOOGL)))"
   ],
   "metadata": {
    "collapsed": false,
    "ExecuteTime": {
     "end_time": "2024-04-13T07:59:06.462521Z",
     "start_time": "2024-04-13T07:59:06.442546Z"
    }
   },
   "id": "839f12f33673df4b",
   "execution_count": 10
  },
  {
   "cell_type": "code",
   "outputs": [],
   "source": [
    "env = StocksEnv(df=STOCKS_GOOGL, window_size=30, frame_bound=(30, len(STOCKS_GOOGL)),render_mode=\"human\")"
   ],
   "metadata": {
    "collapsed": false,
    "ExecuteTime": {
     "end_time": "2024-04-13T08:02:58.635635Z",
     "start_time": "2024-04-13T08:02:58.629099Z"
    }
   },
   "id": "6ab12bad35d20bfb",
   "execution_count": 15
  },
  {
   "cell_type": "code",
   "outputs": [
    {
     "data": {
      "text/plain": "array([ 196.94695,  202.38239,  202.98299, ..., 1256.27   , 1245.86   ,\n       1264.65   ], dtype=float32)"
     },
     "execution_count": 18,
     "metadata": {},
     "output_type": "execute_result"
    }
   ],
   "source": [
    "# View environment features\n",
    "env.signal_features\n",
    "\n",
    "# View environment prices\n",
    "env.prices"
   ],
   "metadata": {
    "collapsed": false,
    "ExecuteTime": {
     "end_time": "2024-04-13T08:06:22.764707Z",
     "start_time": "2024-04-13T08:06:22.755172Z"
    }
   },
   "id": "bc5dcd38818980ef",
   "execution_count": 18
  },
  {
   "cell_type": "code",
   "outputs": [
    {
     "data": {
      "text/plain": "Discrete(2)"
     },
     "execution_count": 19,
     "metadata": {},
     "output_type": "execute_result"
    }
   ],
   "source": [],
   "metadata": {
    "collapsed": false,
    "ExecuteTime": {
     "end_time": "2024-04-13T08:06:39.227269Z",
     "start_time": "2024-04-13T08:06:39.213731Z"
    }
   },
   "id": "9332c1b4be6cf907",
   "execution_count": 19
  },
  {
   "cell_type": "code",
   "outputs": [],
   "source": [
    "env.action_space\n",
    "\n",
    "state = env.reset()\n",
    "while True:\n",
    "    action = env.action_space.sample()\n",
    "    observation, step_reward, done, truncated, info = env.step(action)\n",
    "    env.render()\n",
    "    if done:\n",
    "        print(\"info\", info)\n",
    "        break\n",
    "\n",
    "plt.figure(figsize=(15, 6))\n",
    "plt.cla()\n",
    "env.render()\n",
    "plt.show()"
   ],
   "metadata": {
    "collapsed": false
   },
   "id": "f1c8f168b3181ba6",
   "execution_count": null
  },
  {
   "cell_type": "code",
   "outputs": [],
   "source": [
    "import gymnasium as gym\n",
    "import gym_trading_env"
   ],
   "metadata": {
    "collapsed": false,
    "ExecuteTime": {
     "end_time": "2024-04-13T09:02:38.465400Z",
     "start_time": "2024-04-13T09:02:38.454870Z"
    }
   },
   "id": "fddcef4aa326e580",
   "execution_count": 25
  },
  {
   "cell_type": "code",
   "outputs": [],
   "source": [
    "df.columns=df.columns.str.lower()"
   ],
   "metadata": {
    "collapsed": false,
    "ExecuteTime": {
     "end_time": "2024-04-13T09:03:56.502885Z",
     "start_time": "2024-04-13T09:03:56.493346Z"
    }
   },
   "id": "7228d904388eebba",
   "execution_count": 27
  },
  {
   "cell_type": "code",
   "outputs": [],
   "source": [
    "df"
   ],
   "metadata": {
    "collapsed": false
   },
   "id": "8c69bd028315eab6"
  },
  {
   "cell_type": "code",
   "outputs": [],
   "source": [
    "env = gym.make(\"TradingEnv\",\n",
    "        name= \"GOOGLE\",\n",
    "        df = df, # Your dataset with your custom features\n",
    "        positions = [ -1, 0, 1], # -1 (=SHORT), 0(=OUT), +1 (=LONG)\n",
    "        trading_fees = 0.01/100, # 0.01% per stock buy / sell (Binance fees)\n",
    "        borrow_interest_rate= 0.0003/100, # 0.0003% per timestep (one timestep = 1h here)\n",
    "    )"
   ],
   "metadata": {
    "collapsed": false,
    "ExecuteTime": {
     "end_time": "2024-04-13T09:04:08.412005Z",
     "start_time": "2024-04-13T09:04:08.388018Z"
    }
   },
   "id": "a9b1274b600b9251",
   "execution_count": 28
  },
  {
   "cell_type": "code",
   "outputs": [
    {
     "ename": "KeyboardInterrupt",
     "evalue": "",
     "output_type": "error",
     "traceback": [
      "\u001B[1;31m---------------------------------------------------------------------------\u001B[0m",
      "\u001B[1;31mKeyboardInterrupt\u001B[0m                         Traceback (most recent call last)",
      "Cell \u001B[1;32mIn[32], line 3\u001B[0m\n\u001B[0;32m      1\u001B[0m done, truncated \u001B[38;5;241m=\u001B[39m \u001B[38;5;28;01mFalse\u001B[39;00m, \u001B[38;5;28;01mFalse\u001B[39;00m\n\u001B[0;32m      2\u001B[0m observation, info \u001B[38;5;241m=\u001B[39m env\u001B[38;5;241m.\u001B[39mreset()\n\u001B[1;32m----> 3\u001B[0m \u001B[38;5;28;01mwhile\u001B[39;00m \u001B[38;5;129;01mnot\u001B[39;00m \u001B[43mdone\u001B[49m \u001B[38;5;129;01mand\u001B[39;00m \u001B[38;5;129;01mnot\u001B[39;00m truncated:\n\u001B[0;32m      4\u001B[0m     \u001B[38;5;66;03m# Pick a position by its index in your position list (=[-1, 0, 1])....usually something like : position_index = your_policy(observation)\u001B[39;00m\n\u001B[0;32m      5\u001B[0m     position_index \u001B[38;5;241m=\u001B[39m env\u001B[38;5;241m.\u001B[39maction_space\u001B[38;5;241m.\u001B[39msample() \u001B[38;5;66;03m# At every timestep, pick a random position index from your position list (=[-1, 0, 1])\u001B[39;00m\n\u001B[0;32m      6\u001B[0m     observation, reward, done, truncated, info \u001B[38;5;241m=\u001B[39m env\u001B[38;5;241m.\u001B[39mstep(position_index)\n",
      "Cell \u001B[1;32mIn[32], line 3\u001B[0m\n\u001B[0;32m      1\u001B[0m done, truncated \u001B[38;5;241m=\u001B[39m \u001B[38;5;28;01mFalse\u001B[39;00m, \u001B[38;5;28;01mFalse\u001B[39;00m\n\u001B[0;32m      2\u001B[0m observation, info \u001B[38;5;241m=\u001B[39m env\u001B[38;5;241m.\u001B[39mreset()\n\u001B[1;32m----> 3\u001B[0m \u001B[38;5;28;01mwhile\u001B[39;00m \u001B[38;5;129;01mnot\u001B[39;00m \u001B[43mdone\u001B[49m \u001B[38;5;129;01mand\u001B[39;00m \u001B[38;5;129;01mnot\u001B[39;00m truncated:\n\u001B[0;32m      4\u001B[0m     \u001B[38;5;66;03m# Pick a position by its index in your position list (=[-1, 0, 1])....usually something like : position_index = your_policy(observation)\u001B[39;00m\n\u001B[0;32m      5\u001B[0m     position_index \u001B[38;5;241m=\u001B[39m env\u001B[38;5;241m.\u001B[39maction_space\u001B[38;5;241m.\u001B[39msample() \u001B[38;5;66;03m# At every timestep, pick a random position index from your position list (=[-1, 0, 1])\u001B[39;00m\n\u001B[0;32m      6\u001B[0m     observation, reward, done, truncated, info \u001B[38;5;241m=\u001B[39m env\u001B[38;5;241m.\u001B[39mstep(position_index)\n",
      "File \u001B[1;32m_pydevd_bundle\\pydevd_cython_win32_39_64.pyx:1187\u001B[0m, in \u001B[0;36m_pydevd_bundle.pydevd_cython_win32_39_64.SafeCallWrapper.__call__\u001B[1;34m()\u001B[0m\n",
      "File \u001B[1;32m_pydevd_bundle\\pydevd_cython_win32_39_64.pyx:627\u001B[0m, in \u001B[0;36m_pydevd_bundle.pydevd_cython_win32_39_64.PyDBFrame.trace_dispatch\u001B[1;34m()\u001B[0m\n",
      "File \u001B[1;32m_pydevd_bundle\\pydevd_cython_win32_39_64.pyx:937\u001B[0m, in \u001B[0;36m_pydevd_bundle.pydevd_cython_win32_39_64.PyDBFrame.trace_dispatch\u001B[1;34m()\u001B[0m\n",
      "File \u001B[1;32m_pydevd_bundle\\pydevd_cython_win32_39_64.pyx:928\u001B[0m, in \u001B[0;36m_pydevd_bundle.pydevd_cython_win32_39_64.PyDBFrame.trace_dispatch\u001B[1;34m()\u001B[0m\n",
      "File \u001B[1;32m_pydevd_bundle\\pydevd_cython_win32_39_64.pyx:585\u001B[0m, in \u001B[0;36m_pydevd_bundle.pydevd_cython_win32_39_64.PyDBFrame.do_wait_suspend\u001B[1;34m()\u001B[0m\n",
      "File \u001B[1;32mD:\\IDE\\Tools toolbox\\PyCharm Professional\\plugins\\python\\helpers\\pydev\\pydevd.py:1184\u001B[0m, in \u001B[0;36mPyDB.do_wait_suspend\u001B[1;34m(self, thread, frame, event, arg, send_suspend_message, is_unhandled_exception)\u001B[0m\n\u001B[0;32m   1181\u001B[0m         from_this_thread\u001B[38;5;241m.\u001B[39mappend(frame_id)\n\u001B[0;32m   1183\u001B[0m \u001B[38;5;28;01mwith\u001B[39;00m \u001B[38;5;28mself\u001B[39m\u001B[38;5;241m.\u001B[39m_threads_suspended_single_notification\u001B[38;5;241m.\u001B[39mnotify_thread_suspended(thread_id, stop_reason):\n\u001B[1;32m-> 1184\u001B[0m     \u001B[38;5;28;43mself\u001B[39;49m\u001B[38;5;241;43m.\u001B[39;49m\u001B[43m_do_wait_suspend\u001B[49m\u001B[43m(\u001B[49m\u001B[43mthread\u001B[49m\u001B[43m,\u001B[49m\u001B[43m \u001B[49m\u001B[43mframe\u001B[49m\u001B[43m,\u001B[49m\u001B[43m \u001B[49m\u001B[43mevent\u001B[49m\u001B[43m,\u001B[49m\u001B[43m \u001B[49m\u001B[43marg\u001B[49m\u001B[43m,\u001B[49m\u001B[43m \u001B[49m\u001B[43msuspend_type\u001B[49m\u001B[43m,\u001B[49m\u001B[43m \u001B[49m\u001B[43mfrom_this_thread\u001B[49m\u001B[43m)\u001B[49m\n",
      "File \u001B[1;32mD:\\IDE\\Tools toolbox\\PyCharm Professional\\plugins\\python\\helpers\\pydev\\pydevd.py:1199\u001B[0m, in \u001B[0;36mPyDB._do_wait_suspend\u001B[1;34m(self, thread, frame, event, arg, suspend_type, from_this_thread)\u001B[0m\n\u001B[0;32m   1196\u001B[0m             \u001B[38;5;28mself\u001B[39m\u001B[38;5;241m.\u001B[39m_call_mpl_hook()\n\u001B[0;32m   1198\u001B[0m         \u001B[38;5;28mself\u001B[39m\u001B[38;5;241m.\u001B[39mprocess_internal_commands()\n\u001B[1;32m-> 1199\u001B[0m         \u001B[43mtime\u001B[49m\u001B[38;5;241;43m.\u001B[39;49m\u001B[43msleep\u001B[49m\u001B[43m(\u001B[49m\u001B[38;5;241;43m0.01\u001B[39;49m\u001B[43m)\u001B[49m\n\u001B[0;32m   1201\u001B[0m \u001B[38;5;28mself\u001B[39m\u001B[38;5;241m.\u001B[39mcancel_async_evaluation(get_current_thread_id(thread), \u001B[38;5;28mstr\u001B[39m(\u001B[38;5;28mid\u001B[39m(frame)))\n\u001B[0;32m   1203\u001B[0m \u001B[38;5;66;03m# process any stepping instructions\u001B[39;00m\n",
      "\u001B[1;31mKeyboardInterrupt\u001B[0m: "
     ]
    }
   ],
   "source": [
    "done, truncated = False, False\n",
    "observation, info = env.reset()\n",
    "while not done and not truncated:\n",
    "    # Pick a position by its index in your position list (=[-1, 0, 1])....usually something like : position_index = your_policy(observation)\n",
    "    position_index = env.action_space.sample() # At every timestep, pick a random position index from your position list (=[-1, 0, 1])\n",
    "    observation, reward, done, truncated, info = env.step(position_index)\n",
    "    env.unwrapped.save_for_render(dir = \"render_logs\")"
   ],
   "metadata": {
    "collapsed": false,
    "ExecuteTime": {
     "end_time": "2024-04-13T12:36:29.081759Z",
     "start_time": "2024-04-13T11:40:56.112494Z"
    }
   },
   "id": "e2164f8e3d8fc168",
   "execution_count": 32
  },
  {
   "cell_type": "code",
   "outputs": [],
   "source": [],
   "metadata": {
    "collapsed": false
   },
   "id": "ba765d1acb223f26"
  }
 ],
 "metadata": {
  "kernelspec": {
   "display_name": "Python 3",
   "language": "python",
   "name": "python3"
  },
  "language_info": {
   "codemirror_mode": {
    "name": "ipython",
    "version": 2
   },
   "file_extension": ".py",
   "mimetype": "text/x-python",
   "name": "python",
   "nbconvert_exporter": "python",
   "pygments_lexer": "ipython2",
   "version": "2.7.6"
  }
 },
 "nbformat": 4,
 "nbformat_minor": 5
}
